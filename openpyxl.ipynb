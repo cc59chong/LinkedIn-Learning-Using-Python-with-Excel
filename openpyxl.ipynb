{
 "cells": [
  {
   "cell_type": "code",
   "execution_count": 1,
   "id": "484b1859",
   "metadata": {},
   "outputs": [],
   "source": [
    "# pip install openpyxl\n",
    "\n",
    "from openpyxl.workbook import Workbook\n",
    "from openpyxl import load_workbook"
   ]
  },
  {
   "cell_type": "markdown",
   "id": "53b9aad1",
   "metadata": {},
   "source": [
    "### Creat a new workbook"
   ]
  },
  {
   "cell_type": "code",
   "execution_count": 2,
   "id": "4fca57cc",
   "metadata": {},
   "outputs": [],
   "source": [
    "# wb for workbook, ws for worksheet\n",
    "wb = Workbook()\n",
    "# creates a work sheet refernce equal to the active sheet in our current workbook. \n",
    "ws = wb.active"
   ]
  },
  {
   "cell_type": "code",
   "execution_count": 3,
   "id": "d4330e65",
   "metadata": {},
   "outputs": [
    {
     "name": "stdout",
     "output_type": "stream",
     "text": [
      "['Another', 'Mysheet', 'NewSheet']\n"
     ]
    }
   ],
   "source": [
    "ws1 = wb.create_sheet('NewSheet')\n",
    "# (‘Another’, 0) 0--- count as an index, so in the order of our worksheets this one appears before everything else. \n",
    "ws2 = wb.create_sheet('Another', 0)\n",
    "\n",
    "ws.title = 'Mysheet'\n",
    "\n",
    "print(wb.sheetnames)"
   ]
  },
  {
   "cell_type": "markdown",
   "id": "1262c7a4",
   "metadata": {},
   "source": [
    "### load an existing workbook to access its cells"
   ]
  },
  {
   "cell_type": "code",
   "execution_count": 4,
   "id": "67556a3c",
   "metadata": {},
   "outputs": [
    {
     "data": {
      "text/html": [
       "<div>\n",
       "<style scoped>\n",
       "    .dataframe tbody tr th:only-of-type {\n",
       "        vertical-align: middle;\n",
       "    }\n",
       "\n",
       "    .dataframe tbody tr th {\n",
       "        vertical-align: top;\n",
       "    }\n",
       "\n",
       "    .dataframe thead th {\n",
       "        text-align: right;\n",
       "    }\n",
       "</style>\n",
       "<table border=\"1\" class=\"dataframe\">\n",
       "  <thead>\n",
       "    <tr style=\"text-align: right;\">\n",
       "      <th></th>\n",
       "      <th>Region</th>\n",
       "      <th>Units</th>\n",
       "      <th>Sales</th>\n",
       "      <th>Export</th>\n",
       "    </tr>\n",
       "  </thead>\n",
       "  <tbody>\n",
       "    <tr>\n",
       "      <th>0</th>\n",
       "      <td>South</td>\n",
       "      <td>54</td>\n",
       "      <td>332</td>\n",
       "      <td>100</td>\n",
       "    </tr>\n",
       "    <tr>\n",
       "      <th>1</th>\n",
       "      <td>North</td>\n",
       "      <td>20</td>\n",
       "      <td>110</td>\n",
       "      <td>50</td>\n",
       "    </tr>\n",
       "    <tr>\n",
       "      <th>2</th>\n",
       "      <td>East</td>\n",
       "      <td>36</td>\n",
       "      <td>224</td>\n",
       "      <td>85</td>\n",
       "    </tr>\n",
       "    <tr>\n",
       "      <th>3</th>\n",
       "      <td>West</td>\n",
       "      <td>60</td>\n",
       "      <td>400</td>\n",
       "      <td>110</td>\n",
       "    </tr>\n",
       "    <tr>\n",
       "      <th>4</th>\n",
       "      <td>West</td>\n",
       "      <td>50</td>\n",
       "      <td>226</td>\n",
       "      <td>65</td>\n",
       "    </tr>\n",
       "    <tr>\n",
       "      <th>5</th>\n",
       "      <td>North</td>\n",
       "      <td>84</td>\n",
       "      <td>470</td>\n",
       "      <td>150</td>\n",
       "    </tr>\n",
       "  </tbody>\n",
       "</table>\n",
       "</div>"
      ],
      "text/plain": [
       "  Region  Units  Sales  Export\n",
       "0  South     54    332     100\n",
       "1  North     20    110      50\n",
       "2   East     36    224      85\n",
       "3   West     60    400     110\n",
       "4   West     50    226      65\n",
       "5  North     84    470     150"
      ]
     },
     "execution_count": 4,
     "metadata": {},
     "output_type": "execute_result"
    }
   ],
   "source": [
    "import pandas as pd\n",
    "wb2_df = pd.read_excel('Exercise_Files/regions.xlsx')\n",
    "wb2_df"
   ]
  },
  {
   "cell_type": "code",
   "execution_count": 5,
   "id": "21a516d4",
   "metadata": {},
   "outputs": [
    {
     "name": "stdout",
     "output_type": "stream",
     "text": [
      "<Cell 'Sheet1'.A1>\n"
     ]
    }
   ],
   "source": [
    "wb2 =  load_workbook('Exercise_Files/regions.xlsx')\n",
    "\n",
    "new_sheet = wb2.create_sheet('NewSheet')\n",
    "active_sheet = wb2.active\n",
    "\n",
    "cell =  active_sheet['A1']\n",
    "print(cell)"
   ]
  },
  {
   "cell_type": "code",
   "execution_count": 6,
   "id": "d1042709",
   "metadata": {},
   "outputs": [
    {
     "name": "stdout",
     "output_type": "stream",
     "text": [
      "Region\n"
     ]
    }
   ],
   "source": [
    "print(cell.value)"
   ]
  },
  {
   "cell_type": "code",
   "execution_count": 7,
   "id": "9620058f",
   "metadata": {},
   "outputs": [],
   "source": [
    "active_sheet['A1'] = 0\n",
    "wb2.save('Exercise_Files/modified.xlsx')"
   ]
  },
  {
   "cell_type": "code",
   "execution_count": 8,
   "id": "0cf27075",
   "metadata": {},
   "outputs": [
    {
     "data": {
      "text/html": [
       "<div>\n",
       "<style scoped>\n",
       "    .dataframe tbody tr th:only-of-type {\n",
       "        vertical-align: middle;\n",
       "    }\n",
       "\n",
       "    .dataframe tbody tr th {\n",
       "        vertical-align: top;\n",
       "    }\n",
       "\n",
       "    .dataframe thead th {\n",
       "        text-align: right;\n",
       "    }\n",
       "</style>\n",
       "<table border=\"1\" class=\"dataframe\">\n",
       "  <thead>\n",
       "    <tr style=\"text-align: right;\">\n",
       "      <th></th>\n",
       "      <th>0</th>\n",
       "      <th>Units</th>\n",
       "      <th>Sales</th>\n",
       "      <th>Export</th>\n",
       "    </tr>\n",
       "  </thead>\n",
       "  <tbody>\n",
       "    <tr>\n",
       "      <th>0</th>\n",
       "      <td>South</td>\n",
       "      <td>54</td>\n",
       "      <td>332</td>\n",
       "      <td>100</td>\n",
       "    </tr>\n",
       "    <tr>\n",
       "      <th>1</th>\n",
       "      <td>North</td>\n",
       "      <td>20</td>\n",
       "      <td>110</td>\n",
       "      <td>50</td>\n",
       "    </tr>\n",
       "    <tr>\n",
       "      <th>2</th>\n",
       "      <td>East</td>\n",
       "      <td>36</td>\n",
       "      <td>224</td>\n",
       "      <td>85</td>\n",
       "    </tr>\n",
       "    <tr>\n",
       "      <th>3</th>\n",
       "      <td>West</td>\n",
       "      <td>60</td>\n",
       "      <td>400</td>\n",
       "      <td>110</td>\n",
       "    </tr>\n",
       "    <tr>\n",
       "      <th>4</th>\n",
       "      <td>West</td>\n",
       "      <td>50</td>\n",
       "      <td>226</td>\n",
       "      <td>65</td>\n",
       "    </tr>\n",
       "    <tr>\n",
       "      <th>5</th>\n",
       "      <td>North</td>\n",
       "      <td>84</td>\n",
       "      <td>470</td>\n",
       "      <td>150</td>\n",
       "    </tr>\n",
       "  </tbody>\n",
       "</table>\n",
       "</div>"
      ],
      "text/plain": [
       "       0  Units  Sales  Export\n",
       "0  South     54    332     100\n",
       "1  North     20    110      50\n",
       "2   East     36    224      85\n",
       "3   West     60    400     110\n",
       "4   West     50    226      65\n",
       "5  North     84    470     150"
      ]
     },
     "execution_count": 8,
     "metadata": {},
     "output_type": "execute_result"
    }
   ],
   "source": [
    "newwb2_df = pd.read_excel('Exercise_Files/modified.xlsx')\n",
    "newwb2_df"
   ]
  },
  {
   "cell_type": "markdown",
   "id": "35c0c378",
   "metadata": {},
   "source": [
    "### Selecting cells, rows, and columns"
   ]
  },
  {
   "cell_type": "code",
   "execution_count": 9,
   "id": "2e81b036",
   "metadata": {},
   "outputs": [
    {
     "name": "stdout",
     "output_type": "stream",
     "text": [
      "((<Cell 'Sheet1'.A1>, <Cell 'Sheet1'.B1>, <Cell 'Sheet1'.C1>),)\n"
     ]
    }
   ],
   "source": [
    "wb =  load_workbook('Exercise_Files/regions.xlsx')\n",
    "ws = wb.active\n",
    "\n",
    "cell_range = ws['A1':'C1']\n",
    "print(cell_range)"
   ]
  },
  {
   "cell_type": "code",
   "execution_count": 10,
   "id": "52f7d896",
   "metadata": {},
   "outputs": [
    {
     "name": "stdout",
     "output_type": "stream",
     "text": [
      "(<Cell 'Sheet1'.C1>, <Cell 'Sheet1'.C2>, <Cell 'Sheet1'.C3>, <Cell 'Sheet1'.C4>, <Cell 'Sheet1'.C5>, <Cell 'Sheet1'.C6>, <Cell 'Sheet1'.C7>)\n"
     ]
    }
   ],
   "source": [
    "# return the cells of a column\n",
    "col_c = ws['C']\n",
    "print(col_c)"
   ]
  },
  {
   "cell_type": "code",
   "execution_count": 11,
   "id": "de8afa54",
   "metadata": {},
   "outputs": [
    {
     "name": "stdout",
     "output_type": "stream",
     "text": [
      "((<Cell 'Sheet1'.A1>, <Cell 'Sheet1'.A2>, <Cell 'Sheet1'.A3>, <Cell 'Sheet1'.A4>, <Cell 'Sheet1'.A5>, <Cell 'Sheet1'.A6>, <Cell 'Sheet1'.A7>), (<Cell 'Sheet1'.B1>, <Cell 'Sheet1'.B2>, <Cell 'Sheet1'.B3>, <Cell 'Sheet1'.B4>, <Cell 'Sheet1'.B5>, <Cell 'Sheet1'.B6>, <Cell 'Sheet1'.B7>), (<Cell 'Sheet1'.C1>, <Cell 'Sheet1'.C2>, <Cell 'Sheet1'.C3>, <Cell 'Sheet1'.C4>, <Cell 'Sheet1'.C5>, <Cell 'Sheet1'.C6>, <Cell 'Sheet1'.C7>))\n"
     ]
    }
   ],
   "source": [
    "# specify which columns\n",
    "col_range = ws['A' : 'C']\n",
    "print(col_range)\n",
    "# This variable is formatted as a two-dimensional array as well. The first index corresponds to each column,\n",
    "# while the second corresponds to each row.\n",
    "# For example, if I wanted to access from the column range varible B2, I would index it at (1,1). "
   ]
  },
  {
   "cell_type": "code",
   "execution_count": 12,
   "id": "1d814274",
   "metadata": {},
   "outputs": [
    {
     "name": "stdout",
     "output_type": "stream",
     "text": [
      "((<Cell 'Sheet1'.A1>, <Cell 'Sheet1'.B1>, <Cell 'Sheet1'.C1>, <Cell 'Sheet1'.D1>), (<Cell 'Sheet1'.A2>, <Cell 'Sheet1'.B2>, <Cell 'Sheet1'.C2>, <Cell 'Sheet1'.D2>), (<Cell 'Sheet1'.A3>, <Cell 'Sheet1'.B3>, <Cell 'Sheet1'.C3>, <Cell 'Sheet1'.D3>), (<Cell 'Sheet1'.A4>, <Cell 'Sheet1'.B4>, <Cell 'Sheet1'.C4>, <Cell 'Sheet1'.D4>), (<Cell 'Sheet1'.A5>, <Cell 'Sheet1'.B5>, <Cell 'Sheet1'.C5>, <Cell 'Sheet1'.D5>))\n"
     ]
    }
   ],
   "source": [
    "row_range = ws[1:5]\n",
    "print(row_range)\n",
    "# The first index actes as the row index, and the second acts as the column.\n",
    "# For example, if I wanted to access B1 this time, I would index it at (0,1)"
   ]
  },
  {
   "cell_type": "code",
   "execution_count": 13,
   "id": "2ffee1bd",
   "metadata": {},
   "outputs": [
    {
     "name": "stdout",
     "output_type": "stream",
     "text": [
      "<Cell 'Sheet1'.A1>\n",
      "<Cell 'Sheet1'.B1>\n",
      "<Cell 'Sheet1'.C1>\n",
      "<Cell 'Sheet1'.A2>\n",
      "<Cell 'Sheet1'.B2>\n",
      "<Cell 'Sheet1'.C2>\n"
     ]
    }
   ],
   "source": [
    "for row in ws.iter_rows(min_row=1, max_col=3, max_row=2):\n",
    "    for cell in row:\n",
    "        print(cell)"
   ]
  },
  {
   "cell_type": "code",
   "execution_count": 14,
   "id": "125bbae0",
   "metadata": {},
   "outputs": [
    {
     "name": "stdout",
     "output_type": "stream",
     "text": [
      "Region\n",
      "Units\n",
      "Sales\n",
      "South\n",
      "54\n",
      "332\n"
     ]
    }
   ],
   "source": [
    "for row in ws.iter_rows(min_row=1, max_col=3, max_row=2, values_only=True):\n",
    "    for cell in row:\n",
    "        print(cell)"
   ]
  },
  {
   "cell_type": "markdown",
   "id": "5dd410ef",
   "metadata": {},
   "source": [
    "### Formatting workbooks"
   ]
  },
  {
   "cell_type": "code",
   "execution_count": 2,
   "id": "73ad478c",
   "metadata": {},
   "outputs": [],
   "source": [
    "from openpyxl.styles import Font, colors, Color, Alignment, PatternFill, GradientFill, Border, Side\n"
   ]
  },
  {
   "cell_type": "code",
   "execution_count": 3,
   "id": "12074cdd",
   "metadata": {},
   "outputs": [],
   "source": [
    "wb = Workbook()\n",
    "ws = wb.active\n",
    "\n",
    "for i in range(1,20):\n",
    "    ws.append(range(300))\n",
    "    \n",
    "ws.merge_cells(\"A1:B5\")\n",
    "ws.unmerge_cells(\"A1:B5\")\n",
    "ws.merge_cells(start_row=2, start_column=2, end_row=5, end_column=5)\n",
    "# The one thing to remember about merged cells is that they're addressed as their top-left cell.\n",
    "\n",
    "cell = ws['B2']\n",
    "cell.font = Font(color=\"00FF00\", size=20, italic=True)\n",
    "cell.value = 'Merged Cell'\n",
    "cell.alignment = Alignment(horizontal='right', vertical='bottom')\n",
    "cell.fill = GradientFill(stop=(\"000000\", \"FFFFFF\"))\n",
    "wb.save('text.xlsx')"
   ]
  },
  {
   "cell_type": "code",
   "execution_count": null,
   "id": "f9dec3b6",
   "metadata": {},
   "outputs": [],
   "source": [
    "from openpyxl.styles import NamedStyle"
   ]
  },
  {
   "cell_type": "code",
   "execution_count": 4,
   "id": "2afa5d77",
   "metadata": {},
   "outputs": [],
   "source": [
    "highlight = NamedStyle(name='highlight')\n",
    "highlight.font = Font(bold=True)\n",
    "# darken the borders \n",
    "bd = Side(style='thick', color='000000')\n",
    "highlight.border = Border(left=bd, top=bd, right=bd, bottom=bd)\n",
    "# change the fill color, use pattern fill to instead of using gradient fill\n",
    "highlight.fill = PatternFill('solid', fgColor='FFFF00')\n",
    "\n",
    "count = 0\n",
    "for col in ws.iter_cols(min_col=8, min_row=1, max_col=30, max_row=30):\n",
    "    col[count].style = highlight\n",
    "    count = count + 1\n",
    "wb.save('highlight.xlsx')"
   ]
  },
  {
   "cell_type": "markdown",
   "id": "6c8395e0",
   "metadata": {},
   "source": [
    "### Graphs and charts (Pie chart)"
   ]
  },
  {
   "cell_type": "code",
   "execution_count": 1,
   "id": "7443fe60",
   "metadata": {},
   "outputs": [],
   "source": [
    "import openpyxl\n",
    "from openpyxl.chart import PieChart, Reference, Series, PieChart3D"
   ]
  },
  {
   "cell_type": "code",
   "execution_count": 5,
   "id": "a51f4614",
   "metadata": {},
   "outputs": [],
   "source": [
    "\n",
    "# create an empty workbook\n",
    "wb = openpyxl.Workbook()\n",
    "ws = wb.active\n",
    "\n",
    "# create the data set\n",
    "data = [\n",
    "    ['Flavor', 'Sold'],\n",
    "    ['Vanilla', 1500],\n",
    "    ['Chocolate', 1700],\n",
    "    ['Strawberry', 600],\n",
    "    ['Pumpkin Spice', 950]\n",
    "]\n",
    "\n",
    "# transfer the to Excel\n",
    "for rows in data:\n",
    "    ws.append(rows)\n",
    "    \n",
    "# map data to the chart\n",
    "chart = PieChart()\n",
    "# create two variables to store the data\n",
    "labels = Reference(ws, min_col=1, min_row=2, max_row=5)\n",
    "data = Reference(ws, min_col=2, min_row=1, max_row=5)\n",
    "\n",
    "# add them to the chart using some in-built functions, add_data and set_categories\n",
    "chart.add_data(data, titles_from_data=True)\n",
    "chart.set_categories(labels)\n",
    "chart.title = 'Ice Cream by Flavor'\n",
    "\n",
    "ws.add_chart(chart, 'C1')\n",
    "wb.save('Pie.xlsx')"
   ]
  },
  {
   "cell_type": "markdown",
   "id": "44fd11f6",
   "metadata": {},
   "source": [
    "### Tables and images"
   ]
  },
  {
   "cell_type": "code",
   "execution_count": 27,
   "id": "d3f3689e",
   "metadata": {},
   "outputs": [],
   "source": [
    "from openpyxl.worksheet.table import Table, TableStyleInfo\n",
    "from openpyxl.drawing.image import Image\n",
    "from openpyxl import load_workbook"
   ]
  },
  {
   "cell_type": "code",
   "execution_count": 22,
   "id": "f92f3c13",
   "metadata": {},
   "outputs": [],
   "source": [
    "# load the workbook\n",
    "wb = load_workbook('Pie.xlsx')\n",
    "# create the active worksheet\n",
    "ws = wb.active"
   ]
  },
  {
   "cell_type": "markdown",
   "id": "71296047",
   "metadata": {},
   "source": [
    "### Tables"
   ]
  },
  {
   "cell_type": "code",
   "execution_count": 23,
   "id": "43e35113",
   "metadata": {},
   "outputs": [],
   "source": [
    "# set up a variable\n",
    "tab = Table(displayName='Table1', ref='A1:B5')\n",
    "style = TableStyleInfo(name='TableStyleMedium8', showFirstColumn=False, showLastColumn=False,\n",
    "                       showRowStripes=True, showColumnStripes=True)\n",
    "tab.tableStyleInfo = style\n",
    "ws.add_table(tab)\n",
    "wb.save('table.xlsx')"
   ]
  },
  {
   "cell_type": "markdown",
   "id": "c8bc0357",
   "metadata": {},
   "source": [
    "### Image"
   ]
  },
  {
   "cell_type": "code",
   "execution_count": 25,
   "id": "28c4ee13",
   "metadata": {},
   "outputs": [
    {
     "name": "stdout",
     "output_type": "stream",
     "text": [
      "Requirement already satisfied: pillow in c:\\users\\mengyacao\\anaconda3\\lib\\site-packages (8.2.0)\n",
      "Note: you may need to restart the kernel to use updated packages.\n"
     ]
    }
   ],
   "source": [
    "# install the Pillow library to insert images into your Excel\n",
    "# pip install pillow"
   ]
  },
  {
   "cell_type": "code",
   "execution_count": 30,
   "id": "a00af438",
   "metadata": {},
   "outputs": [],
   "source": [
    "img = Image('madecraft.jpg')\n",
    "# img.height = img.height * .25\n",
    "# img.width = img.width * .25\n",
    "ws.add_image(img, 'C1')\n",
    "wb.save('image.xlsx')"
   ]
  },
  {
   "cell_type": "markdown",
   "id": "93c03ce1",
   "metadata": {},
   "source": [
    "### Managing multiple sheets"
   ]
  },
  {
   "cell_type": "code",
   "execution_count": 1,
   "id": "2e450a84",
   "metadata": {},
   "outputs": [],
   "source": [
    "import pandas as pd"
   ]
  },
  {
   "cell_type": "code",
   "execution_count": 3,
   "id": "c134d1ea",
   "metadata": {},
   "outputs": [
    {
     "name": "stdout",
     "output_type": "stream",
     "text": [
      "    Shift Region Sales Rep  Product  Cost per  Units Sold\n",
      "0       1  South    Meggan    Paper        15         163\n",
      "1       1  South    Charis  Stapler        25         108\n",
      "2       1  South    Shayne   Pencil         5         118\n",
      "3       1  North   Krystin      Pen        10          37\n",
      "4       1  South       Leo    Paper        15         131\n",
      "..    ...    ...       ...      ...       ...         ...\n",
      "94      3  South     Willa      Pen        10          42\n",
      "95      3   West    Shayne    Paper        15         168\n",
      "96      3   East    Adrian   Binder        30         132\n",
      "97      3   East     Willa    Paper        15         111\n",
      "98      3   East     Diann   Folder        17         151\n",
      "\n",
      "[298 rows x 6 columns]\n"
     ]
    }
   ],
   "source": [
    "df_1 = pd.read_excel('Exercise_Files/shifts.xlsx', sheet_name='Sheet')\n",
    "df_2 = pd.read_excel('Exercise_Files/shifts.xlsx', sheet_name='Sheet1')\n",
    "df_3 = pd.read_excel('Exercise_Files/shift_3.xlsx')\n",
    "df_all = pd.concat([df_1, df_2, df_3], sort=False)\n",
    "print(df_all)"
   ]
  },
  {
   "cell_type": "code",
   "execution_count": 4,
   "id": "016e4478",
   "metadata": {},
   "outputs": [
    {
     "name": "stdout",
     "output_type": "stream",
     "text": [
      "    Shift Region Sales Rep Product  Cost per  Units Sold\n",
      "50      1  South  Shirlene  Binder        30         176\n",
      "50      2  North   Jenifer  Pencil         5          62\n",
      "50      3   West    Conrad  Folder        17          51\n"
     ]
    }
   ],
   "source": [
    "# print out row 50\n",
    "print(df_all.loc[50])"
   ]
  },
  {
   "cell_type": "code",
   "execution_count": 6,
   "id": "b8937cdc",
   "metadata": {},
   "outputs": [
    {
     "name": "stdout",
     "output_type": "stream",
     "text": [
      "Shift\n",
      "1    114.767677\n",
      "2    112.460000\n",
      "3    109.343434\n",
      "Name: Units Sold, dtype: float64\n"
     ]
    }
   ],
   "source": [
    "print(df_all.groupby(['Shift']).mean()['Units Sold'])"
   ]
  },
  {
   "cell_type": "code",
   "execution_count": 7,
   "id": "b93c26e8",
   "metadata": {},
   "outputs": [],
   "source": [
    "to_excel = df_all.to_excel('all_shifts.xlsx', index=None)"
   ]
  },
  {
   "cell_type": "code",
   "execution_count": 8,
   "id": "a76d04e6",
   "metadata": {},
   "outputs": [],
   "source": [
    "from openpyxl import load_workbook\n",
    "from openpyxl.styles import Font"
   ]
  },
  {
   "cell_type": "code",
   "execution_count": 9,
   "id": "6ba8b1ee",
   "metadata": {},
   "outputs": [],
   "source": [
    "wb = load_workbook('all_shifts.xlsx')\n",
    "ws = wb.active\n",
    "\n",
    "total_col = ws['G1']\n",
    "total_col.font = Font(bold=True)\n",
    "total_col.value = 'Total'\n",
    "\n",
    "e_col, f_col = ['E', 'F']\n",
    "for row in range(2,300):\n",
    "    result_cell = 'G{}'.format(row)\n",
    "    e_value = ws[e_col + str(row)].value\n",
    "    f_value = ws[f_col + str(row)].value\n",
    "    ws[result_cell] = e_value * f_value\n",
    "\n",
    "wb.save('totaled.xlsx')"
   ]
  },
  {
   "cell_type": "markdown",
   "id": "eff214e0",
   "metadata": {},
   "source": [
    "### Converting data"
   ]
  },
  {
   "cell_type": "code",
   "execution_count": 10,
   "id": "443e7cda",
   "metadata": {},
   "outputs": [],
   "source": [
    "import pandas as pd\n",
    "from openpyxl import load_workbook\n",
    "# import the another openpyxl module\n",
    "# This will allow us to convert our dataframe into a format that's usable by openpyxl\n",
    "from openpyxl.utils.dataframe import dataframe_to_rows"
   ]
  },
  {
   "cell_type": "code",
   "execution_count": 11,
   "id": "33fcd969",
   "metadata": {
    "scrolled": true
   },
   "outputs": [
    {
     "name": "stdout",
     "output_type": "stream",
     "text": [
      "    Sales Rep  Cost per  Units Sold  Total\n",
      "0      Meggan        15         163   2445\n",
      "1      Charis        25         108   2700\n",
      "2      Shayne         5         118    590\n",
      "3     Krystin        10          37    370\n",
      "4         Leo        15         131   1965\n",
      "..        ...       ...         ...    ...\n",
      "293     Willa        10          42    420\n",
      "294    Shayne        15         168   2520\n",
      "295    Adrian        30         132   3960\n",
      "296     Willa        15         111   1665\n",
      "297     Diann        17         151   2567\n",
      "\n",
      "[298 rows x 4 columns]\n"
     ]
    },
    {
     "name": "stderr",
     "output_type": "stream",
     "text": [
      "<ipython-input-11-60d40d1dbdb9>:5: SettingWithCopyWarning: \n",
      "A value is trying to be set on a copy of a slice from a DataFrame.\n",
      "Try using .loc[row_indexer,col_indexer] = value instead\n",
      "\n",
      "See the caveats in the documentation: https://pandas.pydata.org/pandas-docs/stable/user_guide/indexing.html#returning-a-view-versus-a-copy\n",
      "  df1['Total'] = df1['Cost per'] * df1['Units Sold']\n"
     ]
    }
   ],
   "source": [
    "wb = load_workbook('Exercise_Files/regions.xlsx')\n",
    "ws = wb.active\n",
    "df = pd.read_excel('all_shifts.xlsx')\n",
    "df1 = df[['Sales Rep', 'Cost per', 'Units Sold']]\n",
    "df1['Total'] = df1['Cost per'] * df1['Units Sold']\n",
    "print(df1)"
   ]
  },
  {
   "cell_type": "code",
   "execution_count": 14,
   "id": "ba3b7578",
   "metadata": {},
   "outputs": [],
   "source": [
    "rows = dataframe_to_rows(df1, index=False)\n",
    "for r_idx, row in enumerate(rows,1):\n",
    "    for c_idx, col in enumerate(row,6):\n",
    "        ws.cell(row=r_idx, column=c_idx, value=col)\n",
    "wb.save('combined.xlsx')      "
   ]
  },
  {
   "cell_type": "markdown",
   "id": "82da3ea1",
   "metadata": {},
   "source": [
    "### Parsing large speadsheets"
   ]
  },
  {
   "cell_type": "code",
   "execution_count": 15,
   "id": "aaff4b80",
   "metadata": {},
   "outputs": [],
   "source": [
    "import pandas as pd\n",
    "import numpy as np\n",
    "from openpyxl.utils.dataframe import dataframe_to_rows\n",
    "from openpyxl import load_workbook"
   ]
  },
  {
   "cell_type": "code",
   "execution_count": 19,
   "id": "4f8267c0",
   "metadata": {},
   "outputs": [],
   "source": [
    "wb = load_workbook('Exercise_Files/template.xlsx')\n",
    "ws = wb.active\n",
    "\n",
    "df = pd.read_csv('Exercise_Files/crime.csv', encoding='utf-8', dtype={\"INCIDENT_NUMBER\": str, \"OFFENSE_CODE\": str, \n",
    "                                                                      \"OFFENSE_CODE_GROUP\": str, \"OFFENSE_DESCRIPTION\": str,\n",
    "                                                                      \"DISTEICT\": str, \"REPORTING_AREA\": str, \"SHOOTING\": str,\n",
    "                                                                      \"YEAR\": str, \"MONTH\": str, \"DAY_OF_WEEK\": str, \"HOUR\": str})\n",
    "\n",
    "df1 = df[df['OFFENSE_CODE_GROUP'] == 'Counterfeiting']\n",
    "\n",
    "df1 = df1.replace(np.nan, 'N/A', regex=True)\n",
    "\n",
    "total_crimes = len(df.index)\n",
    "counterfeit = len(df1.index)\n",
    "perc_crimes = (counterfeit / total_crimes) * 100\n",
    "perc_crimes = round(perc_crimes, 2)"
   ]
  },
  {
   "cell_type": "code",
   "execution_count": 20,
   "id": "b9ca0e34",
   "metadata": {},
   "outputs": [
    {
     "name": "stdout",
     "output_type": "stream",
     "text": [
      "DISTRICT  YEAR\n",
      "A1        2015    25\n",
      "          2016    57\n",
      "          2017    37\n",
      "          2018    27\n",
      "A15       2015     5\n",
      "          2016     2\n",
      "          2017     8\n",
      "          2018     3\n",
      "A7        2015     6\n",
      "          2016    16\n",
      "          2017    14\n",
      "          2018     8\n",
      "B2        2015    32\n",
      "          2016    68\n",
      "          2017    64\n",
      "          2018    28\n",
      "B3        2015    26\n",
      "          2016    44\n",
      "          2017    34\n",
      "          2018    23\n",
      "C11       2015    73\n",
      "          2016    98\n",
      "          2017    62\n",
      "          2018    41\n",
      "C6        2015    16\n",
      "          2016    28\n",
      "          2017    27\n",
      "          2018    21\n",
      "D14       2015     6\n",
      "          2016    32\n",
      "          2017    69\n",
      "          2018    15\n",
      "D4        2015    35\n",
      "          2016    64\n",
      "          2017    66\n",
      "          2018    49\n",
      "E13       2015    17\n",
      "          2016    42\n",
      "          2017    37\n",
      "          2018    18\n",
      "E18       2015    20\n",
      "          2016    26\n",
      "          2017    23\n",
      "          2018    17\n",
      "E5        2015    15\n",
      "          2016    17\n",
      "          2017    15\n",
      "          2018    11\n",
      "N/A       2017     1\n",
      "          2018     1\n",
      "Name: Count, dtype: int64\n"
     ]
    }
   ],
   "source": [
    "ws['O8'].value = total_crimes\n",
    "ws['P8'].value = counterfeit\n",
    "ws['Q8'].value = perc_crimes\n",
    "\n",
    "df1['Count'] = 1\n",
    "df2 = df1.groupby(['DISTRICT', 'YEAR']).count()['Count']\n",
    "print(df2)"
   ]
  },
  {
   "cell_type": "code",
   "execution_count": 21,
   "id": "abaefa98",
   "metadata": {},
   "outputs": [
    {
     "name": "stdout",
     "output_type": "stream",
     "text": [
      "DISTRICT    A1  A15    A7    B2    B3   C11    C6   D14    D4   E13   E18  \\\n",
      "YEAR                                                                        \n",
      "2015      25.0  5.0   6.0  32.0  26.0  73.0  16.0   6.0  35.0  17.0  20.0   \n",
      "2016      57.0  2.0  16.0  68.0  44.0  98.0  28.0  32.0  64.0  42.0  26.0   \n",
      "2017      37.0  8.0  14.0  64.0  34.0  62.0  27.0  69.0  66.0  37.0  23.0   \n",
      "2018      27.0  3.0   8.0  28.0  23.0  41.0  21.0  15.0  49.0  18.0  17.0   \n",
      "\n",
      "DISTRICT    E5  N/A  \n",
      "YEAR                 \n",
      "2015      15.0  NaN  \n",
      "2016      17.0  NaN  \n",
      "2017      15.0  1.0  \n",
      "2018      11.0  1.0  \n"
     ]
    }
   ],
   "source": [
    "df2 = df1.groupby(['DISTRICT', 'YEAR']).count()['Count'].unstack(level=0)\n",
    "print(df2)"
   ]
  },
  {
   "cell_type": "code",
   "execution_count": 23,
   "id": "33a2efc2",
   "metadata": {},
   "outputs": [],
   "source": [
    "df2.drop(columns='N/A', inplace=True)"
   ]
  },
  {
   "cell_type": "code",
   "execution_count": 24,
   "id": "afcae151",
   "metadata": {},
   "outputs": [],
   "source": [
    "rows = dataframe_to_rows(df2)\n",
    "for r_idx, row in enumerate(rows,8):\n",
    "    for c_idx, value in enumerate(row,1):\n",
    "        ws.cell(row=r_idx, column=c_idx, value=value)\n",
    "\n",
    "wb.save('crime_report.xlsx')"
   ]
  },
  {
   "cell_type": "markdown",
   "id": "9a495fa2",
   "metadata": {},
   "source": [
    "### Advanced graphing with Excel and Python"
   ]
  },
  {
   "cell_type": "code",
   "execution_count": 8,
   "id": "288327ed",
   "metadata": {},
   "outputs": [],
   "source": [
    "from openpyxl import load_workbook\n",
    "from openpyxl.chart import BarChart, PieChart, Series, Reference\n",
    "\n",
    "wb = load_workbook('Exercise_Files/crime_report.xlsx')\n",
    "ws = wb.active"
   ]
  },
  {
   "cell_type": "code",
   "execution_count": 10,
   "id": "d63d50f5",
   "metadata": {},
   "outputs": [],
   "source": [
    "chart = BarChart()\n",
    "data = Reference(ws, min_row=10, min_col=1, max_col=13, max_row=13)\n",
    "labels = Reference(ws, min_row=8, min_col=2, max_row=8, max_col=13)\n",
    "chart.add_data(data, from_rows=True, titles_from_data=True)\n",
    "chart.set_categories(labels)\n",
    "chart.title = 'Counterfeit Crimes by District'\n",
    "chart.height = 4.56\n",
    "chart.width = 20.3\n",
    "ws.add_chart(chart, 'B14')\n",
    "\n",
    "chart2 = PieChart()\n",
    "data = Reference(ws, min_col=15, max_col=16, min_row=8, max_row=8)\n",
    "labels = Reference(ws, min_col=15, max_col=16, min_row=7, max_row=7)\n",
    "chart2.add_data(data, from_rows=True)\n",
    "chart2.set_categories(labels)\n",
    "chart2.title = '% Counterfeit Crimes'\n",
    "chart2.height = 4.56\n",
    "chart2.width = 8.45\n",
    "ws.add_chart(chart2, 'N14')\n",
    "wb.save('lines.xlsx')"
   ]
  },
  {
   "cell_type": "code",
   "execution_count": null,
   "id": "b0393128",
   "metadata": {},
   "outputs": [],
   "source": []
  }
 ],
 "metadata": {
  "kernelspec": {
   "display_name": "Python 3",
   "language": "python",
   "name": "python3"
  },
  "language_info": {
   "codemirror_mode": {
    "name": "ipython",
    "version": 3
   },
   "file_extension": ".py",
   "mimetype": "text/x-python",
   "name": "python",
   "nbconvert_exporter": "python",
   "pygments_lexer": "ipython3",
   "version": "3.8.8"
  }
 },
 "nbformat": 4,
 "nbformat_minor": 5
}
